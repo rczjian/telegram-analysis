{
 "cells": [
  {
   "cell_type": "code",
   "execution_count": null,
   "id": "a3e1ce57-d68f-46ba-bedc-3ab8b3ed5fb3",
   "metadata": {},
   "outputs": [],
   "source": [
    "import json\n",
    "import pandas as pd\n",
    "import plotly.express as px\n",
    "\n",
    "# convert json into dict\n",
    "with open(input(\"Input directory for result.json: \")+\"result.json\") as json_file:\n",
    "    data = json.load(json_file)"
   ]
  },
  {
   "cell_type": "code",
   "execution_count": null,
   "id": "d574e24d-7c98-415d-b8f0-2854a2ccae7d",
   "metadata": {},
   "outputs": [],
   "source": [
    "chats_list = data[\"chats\"][\"list\"]\n",
    "\n",
    "# add message count to data\n",
    "for chat in chats_list:\n",
    "    chat[\"message_count\"] = len(chat[\"messages\"])"
   ]
  },
  {
   "cell_type": "code",
   "execution_count": null,
   "id": "75e0692f-93b0-4497-8c97-749009e01fa4",
   "metadata": {},
   "outputs": [],
   "source": [
    "# normalize chat data\n",
    "chats_df = pd.json_normalize(chats_list).sort_values(by=\"message_count\", ascending=False, ignore_index=True)\n",
    "display(chats_df)"
   ]
  },
  {
   "cell_type": "markdown",
   "id": "d942f6ab-2ff0-4799-8b3f-41c64781db86",
   "metadata": {
    "jp-MarkdownHeadingCollapsed": true,
    "tags": []
   },
   "source": [
    "## GENERAL CHAT ANALYSIS"
   ]
  },
  {
   "cell_type": "code",
   "execution_count": null,
   "id": "c3297505-54a4-4329-94c0-65840e566f70",
   "metadata": {
    "tags": []
   },
   "outputs": [],
   "source": [
    "# visualise message_count per chat\n",
    "fig = px.bar(chats_df, x=\"name\", y=\"message_count\")\n",
    "fig.update_layout(title=\"Message count per chat (all chats)\",\n",
    "                    xaxis_title=\"chat\",\n",
    "                    yaxis_title=\"message_count\")\n",
    "fig.write_html('messages_per_chat_all.html', auto_open=True)\n",
    "fig.show()"
   ]
  },
  {
   "cell_type": "code",
   "execution_count": null,
   "id": "96b2a339-032d-4acd-b534-2e56f55e13ea",
   "metadata": {
    "tags": []
   },
   "outputs": [],
   "source": [
    "# visualise message_count per personal chat\n",
    "fig = px.bar(chats_df[(chats_df[\"message_count\"] >= 500) & (chats_df[\"type\"] == \"personal_chat\")], x=\"name\", y=\"message_count\")\n",
    "fig.update_layout(title=\"Message count per chat (personal chats)\",\n",
    "                    xaxis_title=\"chat\",\n",
    "                    yaxis_title=\"message_count\")\n",
    "fig.write_html('messages_per_chat_personal.html', auto_open=True)\n",
    "fig.show()"
   ]
  },
  {
   "cell_type": "code",
   "execution_count": null,
   "id": "751b9fa5-000a-440a-80e9-2aa47158f7c6",
   "metadata": {
    "tags": []
   },
   "outputs": [],
   "source": [
    "# visualise message_count per group/supergroup chat\n",
    "fig = px.bar(chats_df[(chats_df[\"message_count\"] >= 500) & (chats_df[\"type\"] != \"personal_chat\")], x=\"name\", y=\"message_count\")\n",
    "fig.update_layout(title=\"Message count per chat (group chats)\",\n",
    "                    xaxis_title=\"chat\",\n",
    "                    yaxis_title=\"message_count\")\n",
    "fig.write_html('messages_per_chat_groups.html', auto_open=True)\n",
    "fig.show()"
   ]
  },
  {
   "cell_type": "markdown",
   "id": "d62f1b97-0a74-46e8-8f47-9baefffd7f8b",
   "metadata": {
    "tags": []
   },
   "source": [
    "## INDIVIDUAL CHAT ANALYSIS"
   ]
  },
  {
   "cell_type": "markdown",
   "id": "ccaba8e2-8166-42e3-b6b3-44b46f6ef3e7",
   "metadata": {
    "jp-MarkdownHeadingCollapsed": true,
    "tags": []
   },
   "source": [
    "### Initialising and cleaning data"
   ]
  },
  {
   "cell_type": "code",
   "execution_count": null,
   "id": "dad51575-d309-4f87-ac6e-1a50253ffeee",
   "metadata": {},
   "outputs": [],
   "source": [
    "name = input(\"Input name to get chat index: \")\n",
    "try:\n",
    "    print(chats_df[chats_df[\"name\"]==name].index[0])\n",
    "except:\n",
    "    print(\"No such name found\")"
   ]
  },
  {
   "cell_type": "code",
   "execution_count": null,
   "id": "0e53afb4-8531-475c-a91b-a12f7cf7a6a6",
   "metadata": {},
   "outputs": [],
   "source": [
    "chat_df = pd.json_normalize(chats_df.iloc[int(input(\"Input chat index: \"))][\"messages\"])"
   ]
  },
  {
   "cell_type": "code",
   "execution_count": null,
   "id": "396f8302-cef2-4a13-a488-81d37efae285",
   "metadata": {},
   "outputs": [],
   "source": [
    "chat_df.info()\n",
    "# chat_df.to_csv(\"chat.csv\")"
   ]
  },
  {
   "cell_type": "code",
   "execution_count": null,
   "id": "b94f0f32-fed8-4aa0-ad06-747958f92691",
   "metadata": {},
   "outputs": [],
   "source": [
    "# data cleaning: adding date_only, monthyear, duration_minutes columns\n",
    "\n",
    "chat_df[\"date_only\"] = pd.to_datetime(chat_df['date']).dt.date\n",
    "chat_df[\"monthyear\"] = pd.to_datetime(chat_df['date']).dt.strftime('%Y-%m')\n",
    "chat_df[\"duration_minutes\"] = chat_df[\"duration_seconds\"] / 60"
   ]
  },
  {
   "cell_type": "code",
   "execution_count": null,
   "id": "e4dae07d-34df-4011-8383-f06fe8330267",
   "metadata": {},
   "outputs": [],
   "source": [
    "# data cleaning: cleanup media types to include photos, files, pins, calls, locations, polls, regular texts, etc.\n",
    "\n",
    "chat_df.loc[pd.notnull(chat_df[\"photo\"]), \"media_type\"] = \"photo\"\n",
    "chat_df.loc[pd.isnull(chat_df[\"media_type\"]) & pd.notnull(chat_df[\"file\"]), \"media_type\"] = \"file\"\n",
    "if(\"action\" in chat_df.columns):\n",
    "    chat_df.loc[pd.isnull(chat_df[\"media_type\"]) & pd.notnull(chat_df[\"action\"]), \"media_type\"] = chat_df[\"action\"]\n",
    "    chat_df.loc[pd.notnull(chat_df[\"action\"]), \"from\"] = chat_df[\"actor\"]\n",
    "if(\"live_location_period_seconds\" in chat_df.columns):\n",
    "    chat_df.loc[pd.isnull(chat_df[\"media_type\"]) & pd.notnull(chat_df[\"live_location_period_seconds\"]), \"media_type\"] = \"live_location\"\n",
    "if(\"poll.question\" in chat_df.columns):\n",
    "   chat_df.loc[pd.isnull(chat_df[\"media_type\"]) & pd.notnull(chat_df[\"poll.question\"]), \"media_type\"] = \"poll\"\n",
    "chat_df.loc[pd.isnull(chat_df[\"media_type\"]), \"media_type\"] = \"text\""
   ]
  },
  {
   "cell_type": "code",
   "execution_count": null,
   "id": "0a566bab-6a1f-4cb2-864a-8f1b14da0d29",
   "metadata": {},
   "outputs": [],
   "source": [
    "# data cleaning: get word counts for text and photo media types\n",
    "def get_word_count_str(text):\n",
    "    return len([x for x in text.replace(\"\\n\",\" \").split(\" \") if x.strip()])\n",
    "\n",
    "def get_word_count(message):\n",
    "    count = 0\n",
    "    if(type(message) is str):\n",
    "        count += get_word_count_str(message)\n",
    "    else:\n",
    "        for text in message:\n",
    "            if type(text) is str:\n",
    "                count += get_word_count_str(text)\n",
    "            else: \n",
    "                count += get_word_count_str(text[\"text\"])\n",
    "    return count\n",
    "\n",
    "chat_df.loc[chat_df[\"media_type\"].apply(lambda media: media in [\"text\",\"photo\"]), \"word_count\"] = chat_df[\"text\"].apply(get_word_count)"
   ]
  },
  {
   "cell_type": "code",
   "execution_count": null,
   "id": "37ae1075-5096-4c66-aff4-3df06c8401f8",
   "metadata": {},
   "outputs": [],
   "source": [
    "# data cleaning: drop irrelevant columns\n",
    "\n",
    "columns_to_drop = [\"id\",\"type\",\"date_unixtime\",\"from_id\",\"photo\",\"sticker_emoji\",\"width\",\"height\",\"via_bot\",\"file\",\"thumbnail\",\"edited_unixtime\"]\n",
    "columns_to_drop += [\"live_location_period_seconds\",\"location_information.latitude\",\"location_information.longitude\"]\n",
    "columns_to_drop += [\"poll.question\",\"poll.closed\",\"poll.total_voters\",\"poll.answers\"]\n",
    "columns_to_drop += [\"actor\", \"actor_id\", \"action\", \"discard_reason\", \"message_id\"]\n",
    "\n",
    "chat_df.drop(columns=columns_to_drop, inplace=True, errors=\"ignore\")\n",
    "display(chat_df)"
   ]
  },
  {
   "cell_type": "markdown",
   "id": "710abfac-c55f-40bf-9781-f577e3b79b7c",
   "metadata": {
    "jp-MarkdownHeadingCollapsed": true,
    "tags": []
   },
   "source": [
    "### Analysis: Messages"
   ]
  },
  {
   "cell_type": "code",
   "execution_count": null,
   "id": "ce756be5-6fcd-4b49-a6e5-e36cb5061471",
   "metadata": {},
   "outputs": [],
   "source": [
    "date_count_df = chat_df[\"date_only\"].value_counts().reset_index(name=\"count\").rename(columns={\"index\" : \"date\"}).sort_values(by=\"date\")\n",
    "\n",
    "fig = px.line(date_count_df, x=\"date\", y=\"count\")\n",
    "fig.update_layout(title=\"Messages per day\",\n",
    "                    xaxis_title=\"date\",\n",
    "                    yaxis_title=\"messages\")\n",
    "fig.write_html('messages_per_day.html', auto_open=True)\n",
    "fig.show()"
   ]
  },
  {
   "cell_type": "code",
   "execution_count": null,
   "id": "1d7182b5-8671-432d-b854-1180cab489e1",
   "metadata": {},
   "outputs": [],
   "source": [
    "month_count_df = chat_df[\"monthyear\"].value_counts().reset_index(name=\"count\").rename(columns={\"index\" : \"month\"}).sort_values(by=\"month\")\n",
    "\n",
    "fig = px.line(month_count_df, x=\"month\", y=\"count\")\n",
    "fig.update_layout(title=\"Messages per month\",\n",
    "                    xaxis_title=\"date\",\n",
    "                    yaxis_title=\"messages\")\n",
    "fig.write_html('messages_per_month.html', auto_open=True)\n",
    "fig.show()"
   ]
  },
  {
   "cell_type": "code",
   "execution_count": null,
   "id": "b3d99972-0e8f-4fa7-b6e7-0d088d2a848a",
   "metadata": {},
   "outputs": [],
   "source": [
    "# who texts more?\n",
    "display(chat_df[\"from\"].value_counts())"
   ]
  },
  {
   "cell_type": "code",
   "execution_count": null,
   "id": "12334c4b-8e83-4a94-b1f3-e27f85760774",
   "metadata": {},
   "outputs": [],
   "source": [
    "month_count_per_person_df = chat_df.groupby([\"monthyear\",\"from\"]).size().to_frame().reset_index().rename(columns={0: \"message_count\"})\n",
    "pivot_df = month_count_per_person_df.pivot(index=\"monthyear\", columns=\"from\", values=\"message_count\").reset_index().rename_axis(None, axis=1)\n",
    "\n",
    "fig = px.line(pivot_df, x=\"monthyear\", y=chat_df[\"from\"].unique())\n",
    "fig.update_layout(title=\"Messages per person by month\",\n",
    "                    xaxis_title=\"month\",\n",
    "                    yaxis_title=\"messages\",\n",
    "                    legend=dict(title=\"\"))\n",
    "fig.write_html('messages_per_person_by_month.html', auto_open=True)\n",
    "fig.show()"
   ]
  },
  {
   "cell_type": "code",
   "execution_count": null,
   "id": "d1c7d6db-00b7-44e0-a7b2-572fbbbc4514",
   "metadata": {},
   "outputs": [],
   "source": [
    "display(chat_df[\"media_type\"].value_counts())"
   ]
  },
  {
   "cell_type": "code",
   "execution_count": null,
   "id": "de2f73ed-3ae9-4d3a-89f4-b309b363fe72",
   "metadata": {},
   "outputs": [],
   "source": [
    "display(chat_df.groupby([\"from\",\"media_type\"]).size())"
   ]
  },
  {
   "cell_type": "code",
   "execution_count": null,
   "id": "93a04c44-f3dc-476e-88b1-a38baea001b4",
   "metadata": {},
   "outputs": [],
   "source": [
    "text_message_df = chat_df[chat_df[\"media_type\"].apply(lambda media: media in [\"text\",\"photo\"])]\n",
    "text_counts = text_message_df[\"from\"].value_counts() # only messages with text content\n",
    "\n",
    "word_count_df = text_message_df.groupby(\"from\").sum().reset_index().sort_values(by=\"word_count\",ascending=False)[[\"from\",\"word_count\"]]\n",
    "word_count_df[\"text_count\"] = word_count_df[\"from\"].map(text_counts)\n",
    "word_count_df[\"words_per_text\"] = word_count_df[\"word_count\"]/word_count_df[\"text_count\"]\n",
    "display(word_count_df)"
   ]
  },
  {
   "cell_type": "markdown",
   "id": "684c3a5f-6032-4526-9270-d29d5c98f28f",
   "metadata": {
    "jp-MarkdownHeadingCollapsed": true,
    "tags": []
   },
   "source": [
    "### Analysis: Calls"
   ]
  },
  {
   "cell_type": "code",
   "execution_count": null,
   "id": "7ee3d55a-dddd-489d-b331-e439239e9445",
   "metadata": {},
   "outputs": [],
   "source": [
    "# time spent on calls (hours)\n",
    "chat_call_df = chat_df[chat_df[\"media_type\"]==\"phone_call\"].groupby(\"date_only\").sum().reset_index()\n",
    "\n",
    "fig = px.line(chat_call_df, x=\"date_only\", y=\"duration_minutes\")\n",
    "fig.update_layout(title=\"Call minutes per day\",\n",
    "                    xaxis_title=\"date\",\n",
    "                    yaxis_title=\"call_duration (minutes)\")\n",
    "fig.write_html('call_minutes_per_day.html', auto_open=True)\n",
    "fig.show()"
   ]
  },
  {
   "cell_type": "code",
   "execution_count": null,
   "id": "773af2cc-a6d4-463b-a088-494aec123aec",
   "metadata": {},
   "outputs": [],
   "source": [
    "# time spent on calls (hours)\n",
    "chat_call_df = chat_df[chat_df[\"media_type\"]==\"phone_call\"].groupby(\"monthyear\").sum().reset_index()\n",
    "\n",
    "fig = px.line(chat_call_df, x=\"monthyear\", y=\"duration_minutes\")\n",
    "fig.update_layout(title=\"Call minutes per month\",\n",
    "                    xaxis_title=\"date\",\n",
    "                    yaxis_title=\"call_duration (minutes)\")\n",
    "fig.write_html('call_minutes_per_month.html', auto_open=True)\n",
    "fig.show()"
   ]
  },
  {
   "cell_type": "markdown",
   "id": "e58ce567-38a4-43a3-86b6-35c848a21cf5",
   "metadata": {
    "jp-MarkdownHeadingCollapsed": true,
    "tags": []
   },
   "source": [
    "### Analysis: Words"
   ]
  },
  {
   "cell_type": "code",
   "execution_count": null,
   "id": "e971a6d0-e0f5-447c-a3af-96e965ec4ca1",
   "metadata": {},
   "outputs": [],
   "source": [
    "# sanitise text objects to strings for word cloud and word analysis\n",
    "def sanitise_text(message):\n",
    "    if(type(message) is str):\n",
    "        return message\n",
    "    else:\n",
    "        sanitised = \"\"\n",
    "        for text in message:\n",
    "            if type(text) is str:\n",
    "                sanitised += text.strip()\n",
    "            else: \n",
    "                sanitised += text[\"text\"].strip()\n",
    "            sanitised += \" \"\n",
    "    return sanitised.strip()\n",
    "    \n",
    "chat_df[\"sanitised_text\"] = chat_df[\"text\"].apply(sanitise_text)"
   ]
  },
  {
   "cell_type": "code",
   "execution_count": null,
   "id": "c71e409b-3f75-402d-96a9-6486c5711e25",
   "metadata": {},
   "outputs": [],
   "source": [
    "# word cloud and word analysis prep\n",
    "from wordcloud import WordCloud\n",
    "from wordcloud import ImageColorGenerator\n",
    "from wordcloud import STOPWORDS\n",
    "import matplotlib.pyplot as plt\n",
    "import string\n",
    "\n",
    "def generate_wordcloud(text, title):\n",
    "    stopwords = set(STOPWORDS)\n",
    "    wordcloud = WordCloud(stopwords=stopwords, background_color=\"white\", width=1200, height=600).generate(text)\n",
    "    plt.figure(figsize=(15,10))\n",
    "    plt.imshow(wordcloud)\n",
    "    plt.axis(\"off\")\n",
    "    plt.savefig(\"wordcloud_\"+title+\".png\", bbox_inches=\"tight\", pad_inches=0.4)\n",
    "    print(\"word cloud (\"+title+\")\")\n",
    "    plt.show()\n",
    "\n",
    "def generate_word_barchart(text, title):\n",
    "    word_list = filter(lambda token: token != \"\", text.split(\" \"))\n",
    "    fig = px.bar(pd.Series(word_list).value_counts()[:100])\n",
    "    fig.update_layout(title=\"top 100 words (\"+title+\")\",\n",
    "                        xaxis=dict(title=\"word\",dtick=1),\n",
    "                        yaxis_title=\"count\",\n",
    "                        showlegend=False)\n",
    "    fig.show()"
   ]
  },
  {
   "cell_type": "code",
   "execution_count": null,
   "id": "2ff46c49-8ff0-4849-8743-01122493da5e",
   "metadata": {},
   "outputs": [],
   "source": [
    "# word cloud and word analysis\n",
    "names = chat_df['from'].unique()\n",
    "words = dict()\n",
    "for name in names:\n",
    "    # remove empty strings, whitespace, convert to lowercase, remove punctuation\n",
    "    words[name] = \" \".join(i for i in chat_df[chat_df[\"from\"] == name][\"sanitised_text\"] if i).replace(\"\\n\",\" \").lower().translate(str.maketrans('', '', string.punctuation))\n",
    "    generate_wordcloud(words[name], name)\n",
    "    generate_word_barchart(words[name], name)\n",
    "\n",
    "all_words = \" \".join(words.values())\n",
    "generate_wordcloud(all_words, \"combined\")\n",
    "generate_word_barchart(all_words, \"combined\")"
   ]
  }
 ],
 "metadata": {
  "kernelspec": {
   "display_name": "Python 3 (ipykernel)",
   "language": "python",
   "name": "python3"
  },
  "language_info": {
   "codemirror_mode": {
    "name": "ipython",
    "version": 3
   },
   "file_extension": ".py",
   "mimetype": "text/x-python",
   "name": "python",
   "nbconvert_exporter": "python",
   "pygments_lexer": "ipython3",
   "version": "3.7.3"
  }
 },
 "nbformat": 4,
 "nbformat_minor": 5
}
